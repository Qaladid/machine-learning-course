{
 "cells": [
  {
   "cell_type": "code",
   "execution_count": 6,
   "id": "9bfc8b63-a305-47e9-8859-992fbb8a72cb",
   "metadata": {},
   "outputs": [
    {
     "data": {
      "application/javascript": [
       "IPython.notebook.set_autosave_interval(0)"
      ]
     },
     "metadata": {},
     "output_type": "display_data"
    },
    {
     "name": "stdout",
     "output_type": "stream",
     "text": [
      "Autosave disabled\n"
     ]
    }
   ],
   "source": [
    " %autosave 0"
   ]
  },
  {
   "cell_type": "code",
   "execution_count": 7,
   "id": "a2e62b98-b1cf-4ff1-b201-34cfd8af78e9",
   "metadata": {},
   "outputs": [],
   "source": [
    "import requests"
   ]
  },
  {
   "cell_type": "code",
   "execution_count": 8,
   "id": "c1d776c4-7b79-4bec-9e20-7983b5aec0eb",
   "metadata": {},
   "outputs": [],
   "source": [
    "url = 'http://localhost:9696/predict'"
   ]
  },
  {
   "cell_type": "code",
   "execution_count": 9,
   "id": "735a555c-5b7e-4671-8de7-cd8c338aafb2",
   "metadata": {},
   "outputs": [],
   "source": [
    "customer = {\n",
    " \"gender\": \"female\",\n",
    " \"seniorcitizen\": 0,\n",
    " \"partner\": \"yes\",\n",
    " \"dependents\": \"no\",\n",
    " \"phoneservice\": \"no\",\n",
    " \"multiplelines\": \"no_phone_service\",\n",
    " \"internetservice\": \"dsl\",\n",
    " \"onlinesecurity\": \"no\",\n",
    " \"onlinebackup\": \"yes\",\n",
    " \"deviceprotection\": \"no\",\n",
    " \"techsupport\": \"no\",\n",
    " \"streamingtv\": \"no\",\n",
    " \"streamingmovies\": \"no\",\n",
    " \"contract\": \"month-to-month\",\n",
    " \"paperlessbilling\": \"yes\",\n",
    " \"paymentmethod\": \"electronic_check\",\n",
    " \"tenure\": 24,               \n",
    " \"monthlycharges\": 29.85,\n",
    " \"totalcharges\": (24 * 29.85)\n",
    "}"
   ]
  },
  {
   "cell_type": "code",
   "execution_count": 15,
   "id": "7b0a1123-570a-4b05-b563-cbdafcb3b0cf",
   "metadata": {},
   "outputs": [
    {
     "data": {
      "text/plain": [
       "{'churn': False, 'churn_probability': 0.3257561103446848}"
      ]
     },
     "execution_count": 15,
     "metadata": {},
     "output_type": "execute_result"
    }
   ],
   "source": [
    "response = requests.post(url, json=customer).json()\n",
    "response"
   ]
  },
  {
   "cell_type": "code",
   "execution_count": 14,
   "id": "16c85e2c-82f0-4a20-aa01-19dc83badce3",
   "metadata": {},
   "outputs": [],
   "source": [
    "if response['churn'] == True:\n",
    "    print('send a promo email to %s' % ('xyz-123'))"
   ]
  },
  {
   "cell_type": "code",
   "execution_count": null,
   "id": "4f837114-ab94-4499-a665-4f0d7040c638",
   "metadata": {},
   "outputs": [],
   "source": []
  }
 ],
 "metadata": {
  "kernelspec": {
   "display_name": "Python 3 (ipykernel)",
   "language": "python",
   "name": "python3"
  },
  "language_info": {
   "codemirror_mode": {
    "name": "ipython",
    "version": 3
   },
   "file_extension": ".py",
   "mimetype": "text/x-python",
   "name": "python",
   "nbconvert_exporter": "python",
   "pygments_lexer": "ipython3",
   "version": "3.11.5"
  }
 },
 "nbformat": 4,
 "nbformat_minor": 5
}
