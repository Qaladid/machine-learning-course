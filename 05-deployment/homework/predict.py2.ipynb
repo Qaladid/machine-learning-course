{
 "cells": [
  {
   "cell_type": "code",
   "execution_count": 5,
   "id": "edba6e08-ba13-4579-aeb2-dee3ae3dbe1f",
   "metadata": {},
   "outputs": [],
   "source": [
    "import pickle\n",
    "import numpy as np\n",
    "import requests"
   ]
  },
  {
   "cell_type": "code",
   "execution_count": 6,
   "id": "becc6b2e-c4bc-432a-be95-8fc8c9a237a9",
   "metadata": {},
   "outputs": [],
   "source": [
    "# Define the URLs for the model files\n",
    "url_prefix = \"https://raw.githubusercontent.com/DataTalksClub/machine-learning-zoomcamp/master/cohorts/2024/05-deployment/homework/\"\n",
    "model_file_url = url_prefix + \"model1.bin\"\n",
    "dv_file_url = url_prefix + \"dv.bin\"\n",
    "\n",
    "# Function to download a file from a URL\n",
    "def download_file(url, filename):\n",
    "    response = requests.get(url)\n",
    "    if response.status_code == 200:\n",
    "        with open(filename, 'wb') as f:\n",
    "            f.write(response.content)\n",
    "        print(f\"{filename} downloaded successfully.\")\n",
    "    else:\n",
    "        print(f\"Failed to download {filename}. Status code: {response.status_code}\")"
   ]
  },
  {
   "cell_type": "code",
   "execution_count": 7,
   "id": "453e8d27-b360-4226-ab01-a8d43266b584",
   "metadata": {},
   "outputs": [
    {
     "name": "stdout",
     "output_type": "stream",
     "text": [
      "model1.bin downloaded successfully.\n",
      "dv.bin downloaded successfully.\n"
     ]
    }
   ],
   "source": [
    "# Download the model and DictVectorizer files\n",
    "download_file(model_file_url, 'model1.bin')\n",
    "download_file(dv_file_url, 'dv.bin')"
   ]
  },
  {
   "cell_type": "code",
   "execution_count": 9,
   "id": "b50048c0-1825-4af2-9e93-3a510da98cf9",
   "metadata": {},
   "outputs": [],
   "source": [
    "# Load the DictVectorizer and the Logistic Regression model\n",
    "dv_file = 'dv.bin'\n",
    "model_file = 'model1.bin'\n",
    "\n",
    "with open(dv_file, 'rb') as f_in:\n",
    "    dv = pickle.load(f_in)\n",
    "\n",
    "with open(model_file, 'rb') as f_in:\n",
    "    model = pickle.load(f_in)"
   ]
  },
  {
   "cell_type": "code",
   "execution_count": 10,
   "id": "e040bee7-0e71-4849-bdf7-d4e74d664366",
   "metadata": {},
   "outputs": [],
   "source": [
    "# Client data\n",
    "client = {\n",
    "    \"job\": \"management\",\n",
    "    \"duration\": 400,\n",
    "    \"poutcome\": \"success\"\n",
    "}\n",
    "\n",
    "# Transform the client data\n",
    "X = dv.transform([client])"
   ]
  },
  {
   "cell_type": "code",
   "execution_count": 11,
   "id": "95134407-6b70-4e7d-8476-2fdec53f6d2e",
   "metadata": {},
   "outputs": [
    {
     "name": "stdout",
     "output_type": "stream",
     "text": [
      "The probability that this client will get a subscription is: 0.759\n"
     ]
    }
   ],
   "source": [
    "\n",
    "# Get the probability of getting a subscription\n",
    "probability = model.predict_proba(X)[0, 1]\n",
    "print(f\"The probability that this client will get a subscription is: {probability:.3f}\")"
   ]
  },
  {
   "cell_type": "code",
   "execution_count": null,
   "id": "b3911c55-2fbf-48d3-859f-6e2b532b0355",
   "metadata": {},
   "outputs": [],
   "source": []
  }
 ],
 "metadata": {
  "kernelspec": {
   "display_name": "Python 3 (ipykernel)",
   "language": "python",
   "name": "python3"
  },
  "language_info": {
   "codemirror_mode": {
    "name": "ipython",
    "version": 3
   },
   "file_extension": ".py",
   "mimetype": "text/x-python",
   "name": "python",
   "nbconvert_exporter": "python",
   "pygments_lexer": "ipython3",
   "version": "3.11.5"
  }
 },
 "nbformat": 4,
 "nbformat_minor": 5
}
