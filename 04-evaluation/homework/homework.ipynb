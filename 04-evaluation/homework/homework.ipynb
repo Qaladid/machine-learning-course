{
 "cells": [
  {
   "cell_type": "code",
   "execution_count": 76,
   "id": "535d5e50-6a97-4fe6-b1fa-4c1a7cd048d5",
   "metadata": {},
   "outputs": [],
   "source": [
    "import pandas as pd\n",
    "import numpy as np\n",
    "\n",
    "import matplotlib.pyplot as plt"
   ]
  },
  {
   "cell_type": "code",
   "execution_count": 77,
   "id": "48bf7819-eacf-4ef0-aeea-1dac0d4f1fe0",
   "metadata": {},
   "outputs": [],
   "source": [
    "df = pd.read_csv('bank-full.csv', delimiter=';')"
   ]
  },
  {
   "cell_type": "code",
   "execution_count": 78,
   "id": "fbe46086-0479-4414-8ed2-a66f35ab1ab2",
   "metadata": {
    "scrolled": true
   },
   "outputs": [
    {
     "data": {
      "text/plain": [
       "Index(['age', 'job', 'marital', 'education', 'default', 'balance', 'housing',\n",
       "       'loan', 'contact', 'day', 'month', 'duration', 'campaign', 'pdays',\n",
       "       'previous', 'poutcome', 'y'],\n",
       "      dtype='object')"
      ]
     },
     "execution_count": 78,
     "metadata": {},
     "output_type": "execute_result"
    }
   ],
   "source": [
    "all_columns = df.columns\n",
    "all_columns"
   ]
  },
  {
   "cell_type": "code",
   "execution_count": 79,
   "id": "ebee9629-35b1-4112-8333-fc3660631cd2",
   "metadata": {},
   "outputs": [],
   "source": [
    "# Specify the columns you want to exclude\n",
    "exclude_columns = ['default', 'loan']"
   ]
  },
  {
   "cell_type": "code",
   "execution_count": 80,
   "id": "fefaef1b-373e-4be4-9af7-0db3654a83dc",
   "metadata": {},
   "outputs": [
    {
     "data": {
      "text/plain": [
       "['age',\n",
       " 'job',\n",
       " 'marital',\n",
       " 'education',\n",
       " 'balance',\n",
       " 'housing',\n",
       " 'contact',\n",
       " 'day',\n",
       " 'month',\n",
       " 'duration',\n",
       " 'campaign',\n",
       " 'pdays',\n",
       " 'previous',\n",
       " 'poutcome',\n",
       " 'y']"
      ]
     },
     "execution_count": 80,
     "metadata": {},
     "output_type": "execute_result"
    }
   ],
   "source": [
    "# Use list comprehension to create a new list excluding the unwanted columns\n",
    "selected_columns = [col for col in all_columns if col not in exclude_columns]\n",
    "selected_columns"
   ]
  },
  {
   "cell_type": "code",
   "execution_count": 81,
   "id": "6d6446b9-6c1c-4801-b3f2-4b0b1a8be986",
   "metadata": {},
   "outputs": [],
   "source": [
    "selected_columns = df[selected_columns]"
   ]
  },
  {
   "cell_type": "code",
   "execution_count": 82,
   "id": "0c143bdc-4ba1-4f43-be90-2a12d51938ab",
   "metadata": {},
   "outputs": [
    {
     "name": "stdout",
     "output_type": "stream",
     "text": [
      "Numerical Columns: ['age', 'balance', 'day', 'duration', 'campaign', 'pdays', 'previous']\n",
      "Categorical Columns: ['job', 'marital', 'education', 'housing', 'contact', 'month', 'poutcome', 'y']\n"
     ]
    }
   ],
   "source": [
    "# Get numerical columns\n",
    "numerical = selected_columns.select_dtypes(include=['int64', 'float64']).columns.tolist()\n",
    "\n",
    "# Get categorical columns\n",
    "categorical = selected_columns.select_dtypes(include=['object', 'category']).columns.tolist()\n",
    "\n",
    "# Display the results\n",
    "print(\"Numerical Columns:\", numerical)\n",
    "print(\"Categorical Columns:\", categorical)\n"
   ]
  },
  {
   "cell_type": "code",
   "execution_count": 83,
   "id": "47e9993a-713b-454e-af9d-4a28e6d53f5a",
   "metadata": {},
   "outputs": [
    {
     "name": "stdout",
     "output_type": "stream",
     "text": [
      "Training set: 27126 samples\n",
      "Validation set: 9042 samples\n",
      "Test set: 9043 samples\n"
     ]
    }
   ],
   "source": [
    "from sklearn.model_selection import train_test_split\n",
    "\n",
    "# First, split into train and temp (validation + test)\n",
    "df_train, temp = train_test_split(df, test_size=0.4, random_state=1)\n",
    "\n",
    "# Then, split temp into validation and test\n",
    "df_val, df_test = train_test_split(temp, test_size=0.5, random_state=1)\n",
    "\n",
    "# Check the sizes of the splits\n",
    "print(f\"Training set: {len(df_train)} samples\")\n",
    "print(f\"Validation set: {len(df_val)} samples\")\n",
    "print(f\"Test set: {len(df_test)} samples\")\n"
   ]
  },
  {
   "cell_type": "code",
   "execution_count": 84,
   "id": "332fc152-3f9b-414b-91e4-fc31790fdd68",
   "metadata": {},
   "outputs": [
    {
     "name": "stdout",
     "output_type": "stream",
     "text": [
      "AUC Values: {'age': np.float64(0.5125105881599707), 'balance': np.float64(0.5916931412945473), 'day': np.float64(0.5291275984648961), 'duration': np.float64(0.8128648066681694), 'campaign': np.float64(0.5742447701740003), 'pdays': np.float64(0.5897967289320412), 'previous': np.float64(0.5986704105715122)}\n",
      "Column with highest AUC: duration with AUC: 0.8128648066681694\n"
     ]
    }
   ],
   "source": [
    "from sklearn.metrics import roc_auc_score\n",
    "\n",
    "def calculate_auc(df_train, numerical_columns, target_column='y'):\n",
    "    # Initialize a dictionary to store AUC values\n",
    "    auc_values = {}\n",
    "\n",
    "    # Calculate AUC for each numerical column\n",
    "    for col in numerical_columns:\n",
    "        if col in df_train:  # Ensure the column exists in the training set\n",
    "            # Calculate AUC\n",
    "            auc = roc_auc_score(df_train[target_column], df_train[col])\n",
    "\n",
    "            # If AUC < 0.5, negate the variable\n",
    "            if auc < 0.5:\n",
    "                auc = roc_auc_score(df_train[target_column], -df_train[col])\n",
    "\n",
    "            # Store the AUC value\n",
    "            auc_values[col] = auc\n",
    "\n",
    "    return auc_values\n",
    "\n",
    "# Now, use the function to calculate AUC for your training dataset\n",
    "auc_results = calculate_auc(df_train, numerical_columns)\n",
    "\n",
    "# Find the column with the highest AUC value\n",
    "highest_auc_col = max(auc_results, key=auc_results.get)\n",
    "highest_auc_value = auc_results[highest_auc_col]\n",
    "\n",
    "# Display results\n",
    "print(\"AUC Values:\", auc_results)\n",
    "print(\"Column with highest AUC:\", highest_auc_col, \"with AUC:\", highest_auc_value)\n"
   ]
  },
  {
   "cell_type": "code",
   "execution_count": 97,
   "id": "19e129c2-f946-4436-a5af-601059352869",
   "metadata": {},
   "outputs": [
    {
     "name": "stdout",
     "output_type": "stream",
     "text": [
      "Cross-validated AUC scores: [1.         1.         0.99999967 1.         1.        ]\n",
      "Mean AUC from cross-validation: 0.9999999345143882\n",
      "AUC on validation dataset: 1.0\n",
      "Cross-validated AUC scores: [1.         1.         0.99999967 1.         1.        ]\n",
      "Mean AUC from cross-validation: 0.9999999345143882\n",
      "AUC on validation dataset: 1.0\n"
     ]
    }
   ],
   "source": [
    "from sklearn.linear_model import LogisticRegression\n",
    "from sklearn.metrics import roc_auc_score\n",
    "from sklearn.feature_extraction import DictVectorizer\n",
    "from sklearn.model_selection import cross_val_score\n",
    "import numpy as np\n",
    "\n",
    "def train_and_evaluate(df_train, df_val):\n",
    "    # Prepare the data for training\n",
    "    y_train = df_train['y'].values\n",
    "    dicts_train = df_train[categorical_columns + numerical_columns].to_dict(orient='records')\n",
    "\n",
    "    # One-Hot Encoding\n",
    "    dv = DictVectorizer(sparse=False)\n",
    "    X_train = dv.fit_transform(dicts_train)\n",
    "\n",
    "    # Train the Logistic Regression Model with regularization\n",
    "    model = LogisticRegression(solver='liblinear', C=0.1, max_iter=1000)  # Reduced C value for regularization\n",
    "    model.fit(X_train, y_train)\n",
    "\n",
    "    # Evaluate using cross-validation\n",
    "    cv_scores = cross_val_score(model, X_train, y_train, cv=5, scoring='roc_auc')\n",
    "    print(\"Cross-validated AUC scores:\", cv_scores)\n",
    "    print(\"Mean AUC from cross-validation:\", np.mean(cv_scores))\n",
    "\n",
    "    # Prepare validation data\n",
    "    y_val = df_val['y'].values\n",
    "    dicts_val = df_val[categorical_columns + numerical_columns].to_dict(orient='records')\n",
    "    X_val = dv.transform(dicts_val)\n",
    "\n",
    "    # Make predictions and calculate AUC\n",
    "    y_pred_prob = model.predict_proba(X_val)[:, 1]  # Probability estimates for the positive class\n",
    "    auc = roc_auc_score(y_val, y_pred_prob)\n",
    "\n",
    "    return round(auc, 3)\n",
    "\n",
    "# Calculate AUC on the validation dataset\n",
    "auc_value = train_and_evaluate(df_train, df_val)\n",
    "print(\"AUC on validation dataset:\", auc_value)\n",
    "\n",
    "# Train and Evaluate your Model (from previous steps)\n",
    "auc_value = train_and_evaluate(df_train, df_val)\n",
    "print(\"AUC on validation dataset:\", auc_value)"
   ]
  },
  {
   "cell_type": "code",
   "execution_count": 93,
   "id": "74832758-4f11-4444-81e0-f12565ac1b0a",
   "metadata": {},
   "outputs": [
    {
     "name": "stderr",
     "output_type": "stream",
     "text": [
      "C:\\Users\\LENOVO\\OneDrive\\Desktop\\ML\\venv\\Lib\\site-packages\\sklearn\\metrics\\_classification.py:1531: UndefinedMetricWarning: Precision is ill-defined and being set to 0.0 due to no predicted samples. Use `zero_division` parameter to control this behavior.\n",
      "  _warn_prf(average, modifier, f\"{metric.capitalize()} is\", len(result))\n"
     ]
    },
    {
     "data": {
      "image/png": "[encoded data removed]",
      "text/plain": [
       "<Figure size 1000x600 with 1 Axes>"
      ]
     },
     "metadata": {},
     "output_type": "display_data"
    },
    {
     "name": "stdout",
     "output_type": "stream",
     "text": [
      "Intersection Threshold: 0.01\n"
     ]
    }
   ],
   "source": [
    "from sklearn.metrics import precision_score, recall_score\n",
    "from sklearn.preprocessing import LabelBinarizer\n",
    "\n",
    "def compute_precision_recall_thresholds(model, X_val, y_val):\n",
    "    # Get predicted probabilities for the positive class\n",
    "    y_pred_prob = model.predict_proba(X_val)[:, 1]\n",
    "    \n",
    "    thresholds = np.arange(0.0, 1.01, 0.01)  # Thresholds from 0.0 to 1.0\n",
    "    precisions = []\n",
    "    recalls = []\n",
    "    \n",
    "    for threshold in thresholds:\n",
    "        # Convert probabilities to binary predictions based on the threshold\n",
    "        y_pred = (y_pred_prob >= threshold).astype(int)\n",
    "        \n",
    "        # Calculate precision and recall for each threshold\n",
    "        precision = precision_score(y_val, y_pred)\n",
    "        recall = recall_score(y_val, y_pred)\n",
    "        \n",
    "        precisions.append(precision)\n",
    "        recalls.append(recall)\n",
    "    \n",
    "    return thresholds, precisions, recalls\n",
    "\n",
    "# Assuming you already trained your model in the previous step\n",
    "y_val = df_val['y'].values\n",
    "dicts_val = df_val[categorical_columns + numerical_columns].to_dict(orient='records')\n",
    "X_val = dv.transform(dicts_val)\n",
    "\n",
    "# Convert 'yes'/'no' labels in y_val to binary 0/1\n",
    "lb = LabelBinarizer()\n",
    "y_val_bin = lb.fit_transform(y_val).ravel()  # Convert to binary labels\n",
    "\n",
    "# Now compute precision and recall using the modified y_val_bin\n",
    "thresholds, precisions, recalls = compute_precision_recall_thresholds(model, X_val, y_val_bin)\n",
    "\n",
    "# Plotting Precision and Recall vs Threshold\n",
    "plt.figure(figsize=(10, 6))\n",
    "plt.plot(thresholds, precisions, label='Precision', color='blue')\n",
    "plt.plot(thresholds, recalls, label='Recall', color='orange')\n",
    "plt.title('Precision and Recall vs. Threshold')\n",
    "plt.xlabel('Threshold')\n",
    "plt.ylabel('Score')\n",
    "plt.legend()\n",
    "plt.grid()\n",
    "plt.show()\n",
    "\n",
    "# Find intersection point where precision and recall are close\n",
    "intersection = np.argwhere(np.isclose(precisions, recalls, atol=0.01)).flatten()\n",
    "if intersection.size > 0:\n",
    "    intersection_threshold = thresholds[intersection[0]]\n",
    "else:\n",
    "    intersection_threshold = None\n",
    "\n",
    "print(\"Intersection Threshold:\", intersection_threshold)\n"
   ]
  },
  {
   "cell_type": "code",
   "execution_count": 98,
   "id": "11bd0993-6830-4f84-96b7-d243872539bf",
   "metadata": {},
   "outputs": [
    {
     "name": "stderr",
     "output_type": "stream",
     "text": [
      "C:\\Users\\LENOVO\\OneDrive\\Desktop\\ML\\venv\\Lib\\site-packages\\sklearn\\metrics\\_classification.py:1531: UndefinedMetricWarning: Precision is ill-defined and being set to 0.0 due to no predicted samples. Use `zero_division` parameter to control this behavior.\n",
      "  _warn_prf(average, modifier, f\"{metric.capitalize()} is\", len(result))\n"
     ]
    },
    {
     "data": {
      "image/png": "[encoded data removed]",
      "text/plain": [
       "<Figure size 1000x600 with 1 Axes>"
      ]
     },
     "metadata": {},
     "output_type": "display_data"
    },
    {
     "name": "stdout",
     "output_type": "stream",
     "text": [
      "Max F1 Score: 1.0 at Threshold: 0.09\n"
     ]
    }
   ],
   "source": [
    "from sklearn.metrics import f1_score\n",
    "\n",
    "def compute_f1_thresholds(model, X_val, y_val_bin):\n",
    "    # Get predicted probabilities for the positive class\n",
    "    y_pred_prob = model.predict_proba(X_val)[:, 1]\n",
    "    \n",
    "    thresholds = np.arange(0.0, 1.01, 0.01)  # Thresholds from 0.0 to 1.0\n",
    "    f1_scores = []\n",
    "    \n",
    "    for threshold in thresholds:\n",
    "        # Convert probabilities to binary predictions based on the threshold\n",
    "        y_pred = (y_pred_prob >= threshold).astype(int)\n",
    "        \n",
    "        # Calculate precision and recall\n",
    "        precision = precision_score(y_val_bin, y_pred)\n",
    "        recall = recall_score(y_val_bin, y_pred)\n",
    "        \n",
    "        # Calculate F1 score\n",
    "        f1 = f1_score(y_val_bin, y_pred)\n",
    "        f1_scores.append(f1)\n",
    "    \n",
    "    return thresholds, f1_scores\n",
    "\n",
    "# Compute F1 scores\n",
    "thresholds, f1_scores = compute_f1_thresholds(model, X_val, y_val_bin)\n",
    "\n",
    "# Plotting F1 Score vs Threshold\n",
    "plt.figure(figsize=(10, 6))\n",
    "plt.plot(thresholds, f1_scores, label='F1 Score', color='green')\n",
    "plt.title('F1 Score vs. Threshold')\n",
    "plt.xlabel('Threshold')\n",
    "plt.ylabel('F1 Score')\n",
    "plt.legend()\n",
    "plt.grid()\n",
    "plt.show()\n",
    "\n",
    "# Find the threshold where F1 is maximal\n",
    "max_f1_index = np.argmax(f1_scores)\n",
    "max_f1_threshold = thresholds[max_f1_index]\n",
    "max_f1_value = f1_scores[max_f1_index]\n",
    "\n",
    "print(f\"Max F1 Score: {max_f1_value} at Threshold: {max_f1_threshold}\")\n"
   ]
  },
  {
   "cell_type": "code",
   "execution_count": null,
   "id": "d80e5c28-8bcf-4125-b066-58768fa27322",
   "metadata": {},
   "outputs": [],
   "source": [
    "import numpy as np\n",
    "import pandas as pd\n",
    "from sklearn.model_selection import KFold\n",
    "from sklearn.linear_model import LogisticRegression\n",
    "from sklearn.metrics import roc_auc_score\n",
    "\n",
    "# Assuming df_full_train is your full training DataFrame and y is the target variable\n",
    "X = df_train.drop(columns='y').values  # Features\n",
    "y = df_train['y'].values  # Target\n",
    "\n",
    "# Initialize KFold\n",
    "kf = KFold(n_splits=5, shuffle=True, random_state=1)\n",
    "\n",
    "# Store AUC scores\n",
    "auc_scores = []\n",
    "\n",
    "# Perform 5-Fold CV\n",
    "for train_index, val_index in kf.split(X):\n",
    "    X_train, X_val = X[train_index], X[val_index]\n",
    "    y_train, y_val = y[train_index], y[val_index]\n",
    "    \n",
    "    # Train the model\n",
    "    model = LogisticRegression(solver='liblinear', C=1.0, max_iter=1000)\n",
    "    model.fit(X_train, y_train)\n",
    "    \n",
    "    # Predict probabilities and calculate AUC\n",
    "    y_pred_prob = model.predict_proba(X_val)[:, 1]\n",
    "    auc = roc_auc_score(y_val, y_pred_prob)\n",
    "    auc_scores.append(auc)\n",
    "\n",
    "# Calculate standard deviation of the AUC scores\n",
    "std_dev = np.std(auc_scores)\n",
    "\n",
    "print(f\"AUC scores across folds: {auc_scores}\")\n",
    "print(f\"Standard deviation of AUC scores: {std_dev}\")\n"
   ]
  }
 ],
 "metadata": {
  "kernelspec": {
   "display_name": "Python 3 (ipykernel)",
   "language": "python",
   "name": "python3"
  },
  "language_info": {
   "codemirror_mode": {
    "name": "ipython",
    "version": 3
   },
   "file_extension": ".py",
   "mimetype": "text/x-python",
   "name": "python",
   "nbconvert_exporter": "python",
   "pygments_lexer": "ipython3",
   "version": "3.11.5"
  }
 },
 "nbformat": 4,
 "nbformat_minor": 5
}
